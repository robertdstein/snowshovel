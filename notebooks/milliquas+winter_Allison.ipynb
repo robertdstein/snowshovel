{
 "cells": [
  {
   "cell_type": "code",
   "execution_count": 11,
   "id": "b73671ce",
   "metadata": {
    "scrolled": true
   },
   "outputs": [],
   "source": [
    "from snowshovel.io import read_single_alert, parse_alerts\n",
    "import pandas as pd\n",
    "from tqdm import tqdm\n",
    "from pathlib import Path\n",
    "import numpy as np\n",
    "import matplotlib.pyplot as plt\n",
    "from IPython.display import clear_output\n",
    "from astropy import units as u\n",
    "from astropy.coordinates import SkyCoord\n",
    "from astropy.coordinates import Angle\n",
    "\n",
    "# Set this to the directory containing the unzipped avro alerts\n",
    "data_dir = Path(\"/Users/oakpa/Desktop/Al_Summer/Avro_Files\")\n",
    "\n",
    "# Set the number of alerts to read\n",
    "n_to_read = 71708\n",
    "\n",
    "%matplotlib inline"
   ]
  },
  {
   "cell_type": "code",
   "execution_count": 8,
   "id": "5bd5d927",
   "metadata": {
    "scrolled": true
   },
   "outputs": [],
   "source": [
    "import pandas as pd\n",
    "names = [\n",
    "    \"ra\",\n",
    "    \"dec\",\n",
    "    \"name\",\n",
    "    \"type\",\n",
    "    \"r_mag\",\n",
    "    \"b_mag\",\n",
    "    \"comment\",\n",
    "    \"r\",\n",
    "    \"b\",\n",
    "    \"redshift\",\n",
    "    \"cite\",\n",
    "    \"zcite\",\n",
    "    \"rxpct\",\n",
    "    \"qpct\",\n",
    "    \"xname\",\n",
    "    \"rname\",\n",
    "    \"lobe1\",\n",
    "    \"lobe2\",\n",
    "]\n",
    "\n",
    "colspecs = [\n",
    "    (0, 10),\n",
    "    (12, 22),\n",
    "    (25, 49),\n",
    "    (51, 54),\n",
    "    (56, 60),\n",
    "    (62, 66),\n",
    "    (68, 70),\n",
    "    (72, 73),\n",
    "    (74, 75),\n",
    "    (76, 81),\n",
    "    (83, 88),\n",
    "    (90, 95),\n",
    "    (97, 99),\n",
    "    (101, 103),\n",
    "    (105, 126),\n",
    "    (128, 149),\n",
    "    (151, 172),\n",
    "    (174, 195),\n",
    "]\n",
    "\n",
    "mq_data = pd.read_fwf(\"C:\\\\Users\\\\oakpa\\\\Desktop\\\\Al_Summer\\\\Milliquas.txt\", names=names, colspecs=colspecs)\n",
    "#      # with this command you can see your file\n"
   ]
  },
  {
   "cell_type": "code",
   "execution_count": 27,
   "id": "21d1169b",
   "metadata": {
    "scrolled": false
   },
   "outputs": [
    {
     "name": "stdout",
     "output_type": "stream",
     "text": [
      "\\Users\\oakpa\\Desktop\\Al_Summer\\winter_avro\n"
     ]
    },
    {
     "name": "stderr",
     "output_type": "stream",
     "text": [
      "100%|███████████████████████████████████████████████████████████████████████████████| 279/279 [00:01<00:00, 197.00it/s]\n"
     ]
    }
   ],
   "source": [
    "#read the winter avro alerts\n",
    "alert_path = data_dir.parent.joinpath(\"winter_avro\")\n",
    "print(alert_path)\n",
    "winter_data = parse_alerts(data_dir=alert_path, n_to_read=279)"
   ]
  },
  {
   "cell_type": "code",
   "execution_count": 33,
   "id": "090bef44",
   "metadata": {
    "scrolled": false
   },
   "outputs": [],
   "source": [
    "#use only the useful columns of the winter avro alerts\n",
    "useful_columns = [\n",
    "    \"isdiffpos\", # Is the detection postive (more flux in science image than reference), or negative (less flux)?\n",
    "    \"ra\", # What is the sky position in Right Ascension?\n",
    "    \"dec\", # What is the sky position in Declination?\n",
    "    \"magpsf\", # What is the magnitude (brightness) of the detection?\n",
    "    \"sigmapsf\", # What is the uncertainty on the magnitude?\n",
    "    \"distnr\", # How close is the detection to a known source in the reference image?\n",
    "    \"ndethist\", # How many times has this object been detected?\n",
    "    \"candid\",\n",
    "]\n",
    "snowy_data = winter_data[useful_columns]\n"
   ]
  },
  {
   "cell_type": "code",
   "execution_count": 34,
   "id": "14ff8fa3",
   "metadata": {
    "scrolled": true
   },
   "outputs": [],
   "source": [
    "#divide the winter data into separate bins based on declination\n",
    "    dex = np.linspace(-90., 90., nb_bins+1)\n",
    "    return dex\n",
    "\n",
    "nb_bin = 30\n",
    "\n",
    "dex = make_bins(nb_bin)\n",
    "\n",
    "dec_index_wn = range(nb_bin)\n",
    "\n",
    "winter_data['winter_cut'] = pd.cut(x=winter_data['dec'],bins=dex, labels=dec_index_wn)\n",
    "\n",
    "winter_output_dir = data_dir.parent.joinpath(f'Sorted_Winter_{nb_bin}')\n",
    "winter_output_dir.mkdir(exist_ok=True)\n",
    "\n",
    "winter_savepath=winter_output_dir.joinpath('winter_data.csv')\n",
    "winter_data.to_csv(winter_savepath)\n",
    "\n",
    "for i in dec_index_wn:\n",
    "    mask = winter_data['winter_cut'] == i\n",
    "    winter_cut_df = winter_data[mask]\n",
    "    winter_altpath = winter_output_dir.joinpath(f'winter_range_{i}.csv')\n",
    "    winter_cut_df.to_csv(winter_altpath, index = True)"
   ]
  },
  {
   "cell_type": "code",
   "execution_count": 2,
   "id": "038e6137",
   "metadata": {
    "scrolled": false
   },
   "outputs": [],
   "source": [
    "#divide the milliquas data into bins based on declination\n",
    "def make_bins(nb_bins):\n",
    "    dex = np.linspace(-90., 90., nb_bins+1)\n",
    "    return dex\n",
    "\n",
    "nb_bin = 30\n",
    "\n",
    "dex = make_bins(nb_bin)\n",
    "\n",
    "dec_index_mq = range(nb_bin)\n",
    "\n",
    "mq_data['mq_cut'] = pd.cut(x=mq_data['dec'],bins=dex, labels=dec_index_mq)\n",
    "\n",
    "mq_output_dir = data_dir.parent.joinpath(f'Sorted_Milliquas_{nb_bin}')\n",
    "mq_output_dir.mkdir(exist_ok=True)\n",
    "\n",
    "mq_savepath=mq_output_dir.joinpath('milliquas_data.csv')\n",
    "mq_data.to_csv(mq_savepath)\n",
    "\n",
    "for i in dec_index_mq:\n",
    "    mask = mq_data['mq_cut'] == i\n",
    "    mq_cut_df = mq_data[mask]\n",
    "    mq_altpath = mq_output_dir.joinpath(f'milliquas_range_{i}.csv')\n",
    "    mq_cut_df.to_csv(mq_altpath, index = True)"
   ]
  },
  {
   "cell_type": "code",
   "execution_count": null,
   "id": "9ce8b637",
   "metadata": {
    "scrolled": false
   },
   "outputs": [],
   "source": [
    "# def make_bins(n_bins):\n",
    "#     decs = np.linspace(-90., 90., n_bins+1)\n",
    "#     return decs\n",
    "\n",
    "# n_bin = 30\n",
    "\n",
    "# decs = make_bins(n_bin)\n",
    "\n",
    "# dec_index = range(n_bin)\n",
    "\n",
    "# slim_alerts_df['my_cut'] = pd.cut(x=slim_alerts_df['dec'],bins=decs, labels=dec_index)\n",
    "\n",
    "# avro_output_dir = data_dir.parent.joinpath(f'Sorted_Avro_{n_bin}')\n",
    "# # print(avro_output_dir)\n",
    "# avro_output_dir.mkdir(exist_ok=True)\n",
    "\n",
    "# avro_savepath=avro_output_dir.joinpath('slim_alerts_data.csv')\n",
    "# # print(avro_savepath)\n",
    "# slim_alerts_df.to_csv(avro_savepath, index = False)\n",
    "\n",
    "# for i in dec_index:\n",
    "#     mask = slim_alerts_df['my_cut'] == i\n",
    "#     cut_df = slim_alerts_df[mask]\n",
    "#     avro_altpath = avro_output_dir.joinpath(f'slim_alerts_range_{i}.csv')\n",
    "#     cut_df.to_csv(avro_altpath, index = False)\n"
   ]
  },
  {
   "cell_type": "code",
   "execution_count": 126,
   "id": "563a41fc",
   "metadata": {
    "scrolled": false
   },
   "outputs": [],
   "source": [
    "# list_true = []\n",
    "\n",
    "# #list of images (candidate ID (names of avro alert))\n",
    "\n",
    "# for index in range(1):\n",
    "#     c1 = SkyCoord(ra=slim_alerts_range_1.csv['ra'][index]*u.degree, dec=slim_alerts_range_1['dec'][index]*u.degree, frame='icrs')\n",
    "#     for index in range(len(mq6)):\n",
    "#         c2 = SkyCoord(ra=milliquas_range_1['ra'][index]*u.degree, dec=milliquas_range_1['dec'][index]*u.degree, frame='icrs')\n",
    "#         a = c1.separation(c2)\n",
    "#         if a<=1.5*u.arcsec:\n",
    "#             print(a)\n",
    "#             list_true.append(c1)\n",
    "# print(len(mq_data))\n",
    "# print(list_true)\n",
    "# print(outcomes)"
   ]
  },
  {
   "cell_type": "code",
   "execution_count": 12,
   "id": "414e6d9b",
   "metadata": {
    "scrolled": true
   },
   "outputs": [
    {
     "name": "stdout",
     "output_type": "stream",
     "text": [
      "hi\n",
      "hi\n",
      "hi\n",
      "hi\n",
      "hi\n",
      "hi\n",
      "hi\n",
      "hi\n",
      "hi\n",
      "hi\n",
      "hi\n",
      "hi\n",
      "hi\n",
      "hi\n",
      "hi\n",
      "hi\n",
      "hi\n",
      "hi\n",
      "hi\n",
      "hi\n",
      "hi\n",
      "hi\n",
      "hi\n",
      "hi\n",
      "hi\n",
      "hi\n",
      "hi\n",
      "hi\n",
      "hi\n",
      "hi\n"
     ]
    }
   ],
   "source": [
    "slim_sets = {}\n",
    "winter_sets = {}\n",
    "set_num = 0\n",
    "total_set_num = 29\n",
    "while set_num <= total_set_num:\n",
    "    winter_filename = f'winter_range_{set_num}.csv'\n",
    "    winter_path = Path(f\"/Users/oakpa/Desktop/Al_Summer/Sorted_Winter_30/{winter_filename}\")\n",
    "    winter_sets[f'winter_set{set_num}'] = pd.read_csv(winter_path)\n",
    "    \n",
    "    mq_filename = f'milliquas_range_{set_num}.csv'\n",
    "    mq_path = Path(f\"/Users/oakpa/Desktop/Al_Summer/Sorted_Milliquas_30/{mq_filename}\")\n",
    "    mq_sets[f'mq_set{set_num}'] = pd.read_csv(mq_path)\n",
    "    set_num += 1\n",
    "    print(\"hi\")\n",
    "#     \"C:\\\\Users\\\\oakpa\\\\desktop\\\\Al_Summer\\\\winter_avro\"\n"
   ]
  },
  {
   "cell_type": "code",
   "execution_count": 13,
   "id": "b36ce114",
   "metadata": {
    "scrolled": false
   },
   "outputs": [
    {
     "name": "stderr",
     "output_type": "stream",
     "text": [
      "Processing winter_sets: 100%|█████████████████████████████████████████████████████████| 30/30 [00:00<00:00, 116.78it/s]\n",
      "Processing mq_sets: 100%|██████████████████████████████████████████████████████████████| 30/30 [03:59<00:00,  7.97s/it]\n"
     ]
    }
   ],
   "source": [
    "# have to do this again after reading the bin/set files, probably due the \"Coordinate\" column not being saved as the \n",
    "# proper data type; it probably made it into a string/object instead of what it is supposed to be \n",
    "\n",
    "# loop through each slim_set, create a coordinate and put value into new \"Coordinate\" column (for comparisons later)\n",
    "for set_name, winter_set in tqdm(winter_sets.items(), desc='Processing winter_sets'):\n",
    "    # update the 'Coordinate' column for the current slim_set\n",
    "    winter_set[\"Coordinate\"] = SkyCoord(winter_set[\"ra\"], winter_set[\"dec\"], frame='icrs', unit='deg')\n",
    "\n",
    "# do the same for var_star_set\n",
    "for set_name, mq_set in tqdm(mq_sets.items(), desc='Processing mq_sets'):\n",
    "    # Update the 'Coordinate' column for the current var_star_set\n",
    "    mq_set[\"Coordinate\"] = SkyCoord(mq_set[\"ra\"], mq_set[\"dec\"], frame='icrs', unit='deg')\n",
    "    "
   ]
  },
  {
   "cell_type": "code",
   "execution_count": 24,
   "id": "88bf2a8d",
   "metadata": {
    "scrolled": true
   },
   "outputs": [
    {
     "name": "stderr",
     "output_type": "stream",
     "text": [
      "Processing coordinates: 100%|████████████████████████████████████████████████████████| 160/160 [01:02<00:00,  2.58it/s]"
     ]
    },
    {
     "name": "stdout",
     "output_type": "stream",
     "text": [
      "            candid                   mq_name mq_type      smallest_dist\n",
      "0    2460136710000  SDSS J140154.07+533822.6       Q   0d11m45.5025154s\n",
      "1    2460136710001  SDSS J140312.06+535603.8       Q  0d04m39.63026147s\n",
      "2    2460136710002  SDSS J140446.12+535705.7       Q  0d02m13.88006695s\n",
      "3    2460136710003  SDSS J140446.12+535705.7       Q  0d02m50.75930461s\n",
      "4    2460136710004  SDSS J140446.12+535705.7       Q  0d10m04.43229694s\n",
      "..             ...                       ...     ...                ...\n",
      "155  2460136710155  SDSS J140154.07+533822.6       Q  0d10m11.08045319s\n",
      "156  2460136710156  SDSS J140154.07+533822.6       Q  0d10m16.21629553s\n",
      "157  2460136710157  SDSS J140154.07+533822.6       Q  0d10m46.41910467s\n",
      "158  2460136710158  SDSS J140154.07+533822.6       Q  0d11m16.03525158s\n",
      "159  2460136710159  SDSS J140154.07+533822.6       Q   0d11m21.8769492s\n",
      "\n",
      "[160 rows x 4 columns]\n"
     ]
    },
    {
     "name": "stderr",
     "output_type": "stream",
     "text": [
      "\n"
     ]
    }
   ],
   "source": [
    "# create a list to store the results\n",
    "results = []\n",
    "\n",
    "# the set that is being compared\n",
    "set_num = 23\n",
    "\n",
    "# get the total number of iterations for tqdm to predict time\n",
    "total_iterations = len(winter_sets[f'winter_set{set_num}'])\n",
    "\n",
    "# define the threshold value for dec in arc seconds; masking parts of the set for optimization \n",
    "# if too low the code breaks due to comparing something to nothing in the filtered set; might have to change for each pair\n",
    "# probably a good thing. if code doesn't break that means accuracy isn't lost. if it breaks, accuracy would be lost\n",
    "cut_threshold = 50\n",
    "# options are \"degree\", \"arcmin\", and \"arcsec\"\n",
    "unit_type = \"arcsec\"\n",
    "\n",
    "# current thresholds: set 14 (has to be in the degrees), set 13 (10 arcseconds), set 12 (10 arcseconds), set 11 (10 arcseconds)\n",
    "\n",
    "# use tqdm to track progress\n",
    "# iterating through each data point in the 'coordinate' column for slim_set{set_num}\n",
    "for winter_index, winter_row in tqdm(winter_sets[f'winter_set{set_num}'].iterrows(), total=total_iterations, desc='Processing coordinates'):\n",
    "    winter_coord = winter_row['Coordinate']\n",
    "    \n",
    "    # creating a list to store the distances for the current slim_set9 coordinate\n",
    "    # will be used to determine the shortest distance\n",
    "    distances = []\n",
    "    # creating a list to store the corresponding indexes in variable_star\n",
    "    # so we know which data point the shortest distance refers to\n",
    "    mq_indexes = [] # note that this is no longer being utilized, can be added to the new data frame if desired though\n",
    "    \n",
    "    # filter var_star_set{set_num} based on declination; ± the threshold (inclusive)\n",
    "    mq_set_filtered = mq_sets[f'mq_set{set_num}'][\n",
    "        (mq_sets[f'mq_set{set_num}']['dec'] >= winter_coord.dec - Angle(cut_threshold, unit=unit_type)) &\n",
    "        (mq_sets[f'mq_set{set_num}']['dec'] <= winter_coord.dec + Angle(cut_threshold, unit=unit_type))\n",
    "    ]\n",
    "    \n",
    "    # iterate through each data point in the 'coordinate' column in the filtered var_star_set\n",
    "    for mq_index, mq_row in mq_set_filtered.iterrows():\n",
    "        mq_coord = mq_row['Coordinate']\n",
    "        \n",
    "        # calculate the distance between the two coordinates, record information in the two lists\n",
    "        dist = winter_coord.separation(mq_coord)\n",
    "        distances.append(dist)\n",
    "        mq_indexes.append(mq_index)\n",
    "    \n",
    "    # find the smallest distance in the list and its corresponding index in variable_star\n",
    "    if len(distances)>0:\n",
    "        smallest_dist = min(distances)\n",
    "        mq_index = mq_indexes[distances.index(smallest_dist)]\n",
    "    \n",
    "    # get the coordinates corresponding to the found indexes\n",
    "    winter_candid = winter_sets[f'winter_set{set_num}'].loc[winter_index, \"candid\"]\n",
    "#     slim_objectId = slim_sets[f'slim_set{set_num}'].loc[slim_index, \"objectId\"]\n",
    "    mq_name = mq_sets[f'mq_set{set_num}'].loc[mq_index, \"name\"]\n",
    "    mq_type = mq_sets[f'mq_set{set_num}'].loc[mq_index, \"type\"]\n",
    "\n",
    "    \n",
    "    # append the results and data to the \"results\" list\n",
    "    results.append({\n",
    "        'candid': winter_candid,\n",
    "#         'objectId': slim_objectId,\n",
    "        'mq_name': mq_name,\n",
    "        \"mq_type\": mq_type,\n",
    "        'smallest_dist': smallest_dist\n",
    "    })\n",
    "\n",
    "# create the smallest_distances dataset from the \"results\" list\n",
    "smallest_distances = pd.DataFrame(results)\n",
    "print(smallest_distances)"
   ]
  },
  {
   "cell_type": "code",
   "execution_count": 25,
   "id": "e4683ffa",
   "metadata": {
    "scrolled": true
   },
   "outputs": [
    {
     "name": "stdout",
     "output_type": "stream",
     "text": [
      "Empty DataFrame\n",
      "Columns: [candid, mq_name, mq_type, smallest_dist]\n",
      "Index: []\n"
     ]
    }
   ],
   "source": [
    "# define the angle and threshold; the angle is a string and must be converted into an angle\n",
    "angle_str = \"00d00m02s\"\n",
    "threshold = Angle(angle_str)\n",
    "\n",
    "# Extract the numerical value in degrees from the 'smallest_dist' column\n",
    "degrees_values = smallest_distances['smallest_dist'].apply(lambda x: x.to_value('deg'))\n",
    "\n",
    "# Compare the numerical values with the threshold value\n",
    "filtered_distances = smallest_distances[degrees_values < threshold.to_value('deg')]\n",
    "\n",
    "print(filtered_distances)\n",
    "#set 13 returned 132 results \n",
    "#set 12 returned 160 results"
   ]
  },
  {
   "cell_type": "code",
   "execution_count": 86,
   "id": "498316eb",
   "metadata": {
    "scrolled": false
   },
   "outputs": [],
   "source": [
    "results_dir = data_dir.parent.joinpath(\"Results\")\n",
    "results_dir.mkdir(exist_ok=True)\n",
    "results = results_dir.joinpath(f'smallestdist{set_num}')\n",
    "filtered_distances.to_csv(results, index=False)\n",
    "\n",
    "# mq_output_dir = data_dir.parent.joinpath(f'Sorted_Milliquas_{nb_bin}')\n",
    "# mq_output_dir.mkdir(exist_ok=True)\n",
    "\n",
    "# mq_savepath=mq_output_dir.joinpath('milliquas_data.csv')\n",
    "# mq_data.to_csv(mq_savepath)\n",
    "\n",
    "# for i in dec_index_mq:\n",
    "#     mask = mq_data['mq_cut'] == i\n",
    "#     mq_cut_df = mq_data[mask]\n",
    "#     mq_altpath = mq_output_dir.joinpath(f'milliquas_range_{i}.csv')\n",
    "#     mq_cut_df.to_csv(mq_altpath, index = True)"
   ]
  },
  {
   "cell_type": "code",
   "execution_count": null,
   "id": "6dfc88cc",
   "metadata": {},
   "outputs": [],
   "source": []
  }
 ],
 "metadata": {
  "kernelspec": {
   "display_name": "snowshovel",
   "language": "python",
   "name": "snowshovel"
  },
  "language_info": {
   "codemirror_mode": {
    "name": "ipython",
    "version": 3
   },
   "file_extension": ".py",
   "mimetype": "text/x-python",
   "name": "python",
   "nbconvert_exporter": "python",
   "pygments_lexer": "ipython3",
   "version": "3.11.4"
  }
 },
 "nbformat": 4,
 "nbformat_minor": 5
}
